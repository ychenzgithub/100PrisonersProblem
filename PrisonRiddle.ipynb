{
 "cells": [
  {
   "cell_type": "markdown",
   "metadata": {},
   "source": [
    "# 100 Prisoners Problem\n",
    "\n",
    "The director of a prison offers 100 death row prisoners, who are numbered from 1 to 100, a last chance. A room contains a cupboard with 100 drawers. The director randomly puts one prisoner's number in each closed drawer. The prisoners enter the room, one after another. Each prisoner may open and look into 50 drawers in any order. The drawers are closed again afterwards. If, during this search, every prisoner finds his number in one of the drawers, all prisoners are pardoned. If just one prisoner does not find his number, all prisoners die. Before the first prisoner enters the room, the prisoners may discuss strategy — but may not communicate once the first prisoner enters to look in the drawers. What is the prisoners' best strategy?"
   ]
  },
  {
   "cell_type": "code",
   "execution_count": 1,
   "metadata": {},
   "outputs": [],
   "source": [
    "import PrisonRiddle"
   ]
  },
  {
   "cell_type": "markdown",
   "metadata": {},
   "source": [
    "`seq_init()` function can be used to initialize a sequence of numbers associated with n prisoners "
   ]
  },
  {
   "cell_type": "code",
   "execution_count": 5,
   "metadata": {},
   "outputs": [],
   "source": [
    "seq,seqdone = PrisonRiddle.seq_init(n=100)"
   ]
  },
  {
   "cell_type": "markdown",
   "metadata": {},
   "source": [
    "`deri_loop()` function derives a single loop that starts at a given position (here 0 is used)"
   ]
  },
  {
   "cell_type": "code",
   "execution_count": 6,
   "metadata": {},
   "outputs": [],
   "source": [
    "seqloop,seqdone = PrisonRiddle.deri_loop(seq,0,seqdone)"
   ]
  },
  {
   "cell_type": "code",
   "execution_count": 7,
   "metadata": {},
   "outputs": [
    {
     "name": "stdout",
     "output_type": "stream",
     "text": [
      "[0, 73, 87, 50, 44, 2, 20, 99, 8, 85, 88, 35, 94, 76, 86, 96, 92, 24, 98, 82, 79, 32, 22, 40, 91, 7, 81, 64, 68, 84, 97, 1, 52, 80, 16, 89, 48, 62, 69, 60, 67, 34, 4, 51, 27, 77, 58, 25, 31, 66, 23, 30, 19, 95, 55, 46, 43, 47, 33, 72, 15, 59, 41, 13, 37, 83, 65, 54, 45, 75, 14, 3, 36, 70, 78, 10, 11, 9, 18, 6, 71, 26, 61, 57]\n"
     ]
    }
   ],
   "source": [
    "print(seqloop)"
   ]
  },
  {
   "cell_type": "markdown",
   "metadata": {},
   "source": [
    "`deri_allloops()` function derives all loops that associated with a given sequence"
   ]
  },
  {
   "cell_type": "code",
   "execution_count": 8,
   "metadata": {},
   "outputs": [],
   "source": [
    "allloops = PrisonRiddle.deri_allloops(seq,seqdone)"
   ]
  },
  {
   "cell_type": "code",
   "execution_count": 9,
   "metadata": {},
   "outputs": [
    {
     "name": "stdout",
     "output_type": "stream",
     "text": [
      "{0: [5, 12, 49, 56, 42, 29, 93], 1: [17, 90, 53, 39, 21], 2: [28, 38, 63, 74]}\n"
     ]
    }
   ],
   "source": [
    "print(allloops)"
   ]
  },
  {
   "cell_type": "markdown",
   "metadata": {},
   "source": [
    "`check_result()` function checks if the prisoners successfully pass the test given all loops derived"
   ]
  },
  {
   "cell_type": "code",
   "execution_count": 10,
   "metadata": {},
   "outputs": [
    {
     "data": {
      "text/plain": [
       "True"
      ]
     },
     "execution_count": 10,
     "metadata": {},
     "output_type": "execute_result"
    }
   ],
   "source": [
    "PrisonRiddle.check_result(allloops,n=100)"
   ]
  },
  {
   "cell_type": "markdown",
   "metadata": {},
   "source": [
    "`one_realization()` function checks if the prisoners successfully pass the test a single realization"
   ]
  },
  {
   "cell_type": "code",
   "execution_count": 16,
   "metadata": {},
   "outputs": [
    {
     "name": "stdout",
     "output_type": "stream",
     "text": [
      "The result of the example realization is \"False\"\n"
     ]
    }
   ],
   "source": [
    "flag_suc = PrisonRiddle.one_realization(n=100)\n",
    "print(f'The result of the example realization is \"{flag_suc}\"')"
   ]
  },
  {
   "cell_type": "markdown",
   "metadata": {},
   "source": [
    "`n_realizations()` function calculate the successful rate using multiple realizations"
   ]
  },
  {
   "cell_type": "code",
   "execution_count": 11,
   "metadata": {},
   "outputs": [],
   "source": [
    "f_suc = PrisonRiddle.n_realizations(nr = 1000, n = 100)"
   ]
  },
  {
   "cell_type": "code",
   "execution_count": 13,
   "metadata": {},
   "outputs": [
    {
     "name": "stdout",
     "output_type": "stream",
     "text": [
      "The success rate of 100 prisoner is 0.31\n"
     ]
    }
   ],
   "source": [
    "print(f'The success rate of 100 prisoner is {f_suc}')"
   ]
  }
 ],
 "metadata": {
  "kernelspec": {
   "display_name": "Python 3",
   "language": "python",
   "name": "python3"
  },
  "language_info": {
   "codemirror_mode": {
    "name": "ipython",
    "version": 3
   },
   "file_extension": ".py",
   "mimetype": "text/x-python",
   "name": "python",
   "nbconvert_exporter": "python",
   "pygments_lexer": "ipython3",
   "version": "3.8.3"
  }
 },
 "nbformat": 4,
 "nbformat_minor": 4
}
